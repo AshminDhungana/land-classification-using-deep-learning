{
 "cells": [
  {
   "cell_type": "markdown",
   "id": "fe95b8bb",
   "metadata": {},
   "source": [
    "## Data Loading "
   ]
  },
  {
   "cell_type": "markdown",
   "id": "1c2acca0",
   "metadata": {},
   "source": [
    "### 1. Installing Required Libraries"
   ]
  },
  {
   "cell_type": "code",
   "execution_count": 6,
   "id": "ad8d1a89",
   "metadata": {},
   "outputs": [],
   "source": [
    "import os\n",
    "import requests\n",
    "import tarfile"
   ]
  },
  {
   "cell_type": "markdown",
   "id": "a70f0ac8",
   "metadata": {},
   "source": [
    "### 2. Downloading the Dataset"
   ]
  },
  {
   "cell_type": "code",
   "execution_count": null,
   "id": "d8eb5a31",
   "metadata": {},
   "outputs": [
    {
     "name": "stdout",
     "output_type": "stream",
     "text": [
      "Downloading dataset...\n",
      "Download complete ✅\n"
     ]
    }
   ],
   "source": [
    "url = \"https://cf-courses-data.s3.us.cloud-object-storage.appdomain.cloud/4Z1fwRR295-1O3PMQBH6Dg/images-dataSAT.tar\"\n",
    "\n",
    "# Local paths\n",
    "download_path = \"dataset.tar\"\n",
    "extract_path = os.path.join(os.getcwd(),\"../data/\")\n",
    "\n",
    "# Download the file\n",
    "print(\"Downloading dataset...\")\n",
    "response = requests.get(url, stream=True)\n",
    "with open(download_path, \"wb\") as file:\n",
    "    for chunk in response.iter_content(chunk_size=1024):\n",
    "        if chunk:\n",
    "            file.write(chunk)\n",
    "print(\"Download complete.\")"
   ]
  },
  {
   "cell_type": "markdown",
   "id": "d7f63255",
   "metadata": {},
   "source": [
    "### 3. Extracting the data to ./data folder"
   ]
  },
  {
   "cell_type": "code",
   "execution_count": null,
   "id": "bee55307",
   "metadata": {},
   "outputs": [
    {
     "name": "stdout",
     "output_type": "stream",
     "text": [
      "Extracting files...\n"
     ]
    },
    {
     "name": "stderr",
     "output_type": "stream",
     "text": [
      "/tmp/ipykernel_15000/325546265.py:4: DeprecationWarning: Python 3.14 will, by default, filter extracted tar archives and reject files or modify their metadata. Use the filter argument to control this behavior.\n",
      "  tar.extractall(path=extract_path)\n"
     ]
    },
    {
     "name": "stdout",
     "output_type": "stream",
     "text": [
      "Extraction complete ✅\n",
      "Cleanup done ✅\n"
     ]
    }
   ],
   "source": [
    "#  Extract the .tar.gz file\n",
    "print(\"Extracting files...\")\n",
    "with tarfile.open(download_path, \"r:\") as tar:\n",
    "    tar.extractall(path=extract_path)\n",
    "print(\"Extraction complete.\")\n",
    "\n",
    "#  Remove the downloaded archive\n",
    "os.remove(download_path)\n",
    "print(\"Cleanup done.\")"
   ]
  }
 ],
 "metadata": {
  "kernelspec": {
   "display_name": "venv",
   "language": "python",
   "name": "python3"
  },
  "language_info": {
   "codemirror_mode": {
    "name": "ipython",
    "version": 3
   },
   "file_extension": ".py",
   "mimetype": "text/x-python",
   "name": "python",
   "nbconvert_exporter": "python",
   "pygments_lexer": "ipython3",
   "version": "3.13.7"
  }
 },
 "nbformat": 4,
 "nbformat_minor": 5
}
