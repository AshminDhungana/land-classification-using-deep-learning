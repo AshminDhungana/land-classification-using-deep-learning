{
 "cells": [
  {
   "cell_type": "markdown",
   "id": "b5d94cb9",
   "metadata": {},
   "source": [
    "# Vision Transformer (ViT) Model Evaluation"
   ]
  },
  {
   "cell_type": "markdown",
   "id": "4509b762",
   "metadata": {},
   "source": [
    "### Importing, testing, and evaluating two Vision Transformer (ViT) models developed in Keras and PyTorch"
   ]
  },
  {
   "cell_type": "markdown",
   "id": "594db234",
   "metadata": {},
   "source": []
  }
 ],
 "metadata": {
  "language_info": {
   "name": "python"
  }
 },
 "nbformat": 4,
 "nbformat_minor": 5
}
